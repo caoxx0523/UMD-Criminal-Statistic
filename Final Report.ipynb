{
 "cells": [
  {
   "cell_type": "markdown",
   "metadata": {},
   "source": [
    "# UMD Security Analysis - Group 17\n",
    "Members: Zixuan Cao, Jia Guo"
   ]
  },
  {
   "cell_type": "markdown",
   "metadata": {},
   "source": [
    "## 1. Objective \n",
    "Campus security has long been an important issue that should be considered and aware of. After the tragic school gunshot in Florida, we believe it’s necessary to analyze the security situation on and around University of Maryland – College Park to alert faculties and students, and make recommendations to students and UMPD for a more secure campus. "
   ]
  },
  {
   "cell_type": "markdown",
   "metadata": {},
   "source": [
    "## 2. Data Description"
   ]
  },
  {
   "cell_type": "markdown",
   "metadata": {},
   "source": [
    "To achieve the goal mentioned above, we find crime reports from UMPD official website. The data we used is “Daily Crime and Incident Logs” and “Arrest Report Ledgers”. Considering timeliness and reference value of data, we plan to analyze the crime reports in the past five years, i.e. from March 2013 to February 2018. "
   ]
  },
  {
   "cell_type": "markdown",
   "metadata": {},
   "source": [
    "“Daily Crime and Incident logs” provides details of each case in every month, every year. Attributes include: \n",
    "- Case number (13 digits number)\n",
    "- Occurred date and time (mm/dd/yy hh:MM)\n",
    "- Occurred location\n",
    "- Report date and time (Same format with “Occurred date and time”)\n",
    "- Type of crime\n",
    "- Disposition status (CBE, Arrest, Active/Pending).\n",
    "Reference: http://www.umpd.umd.edu/stats/incident_logs.cfm\n",
    "\n",
    "“Arrest Report Ledgers” reports details of closed case in every year. Attributes include: \n",
    "- Arrest number (5 digits)\n",
    "- Arrested date and time (mm/dd/yy hh:MM)\n",
    "- Crime charge (description of the crime)\n",
    "- Case number (13 digits)\n",
    "- Age of criminals\n",
    "- Race of criminals\n",
    "- Sex of criminals\n",
    "Reference: http://www.umpd.umd.edu/stats/arrest_report.cfm"
   ]
  },
  {
   "cell_type": "markdown",
   "metadata": {},
   "source": [
    "## 3. Data Processing"
   ]
  },
  {
   "cell_type": "code",
   "execution_count": 1,
   "metadata": {},
   "outputs": [
    {
     "name": "stdout",
     "output_type": "stream",
     "text": [
      "Populating the interactive namespace from numpy and matplotlib\n"
     ]
    }
   ],
   "source": [
    "import pandas as pd\n",
    "import numpy as np\n",
    "import seaborn as sns\n",
    "import datetime as dt\n",
    "%pylab inline"
   ]
  },
  {
   "cell_type": "markdown",
   "metadata": {},
   "source": [
    "### (1) Scraped Daily Crime Report from March 2013 to Feburary 2018 from UMPD official website\n",
    "The data is stored on a month basis, which makes the last part of the url of each table different. We did a for loop to iterate through all tables and appended them to an entire table named df_year. "
   ]
  },
  {
   "cell_type": "code",
   "execution_count": 2,
   "metadata": {
    "collapsed": true
   },
   "outputs": [],
   "source": [
    "years = [2013, 2014, 2015, 2016, 2017, 2018]\n",
    "months = range(1, 13)\n",
    "df_year = pd.DataFrame()\n",
    "for year in years:\n",
    "    for month in months:\n",
    "        if year == 2013 and month < 3 or year == 2018 and month > 2:\n",
    "            pass\n",
    "        else:\n",
    "            url = 'http://www.umpd.umd.edu/stats/incident_logs.cfm?year='+str(year)+'&month='+str(month)\n",
    "            df = pd.read_html(url, header = None)[0]\n",
    "            df.columns = df.iloc[0]\n",
    "            df = df.iloc[1:,:]\n",
    "            df_year = df_year.append(df)"
   ]
  },
  {
   "cell_type": "code",
   "execution_count": 3,
   "metadata": {
    "scrolled": true
   },
   "outputs": [
    {
     "data": {
      "text/html": [
       "<div>\n",
       "<style>\n",
       "    .dataframe thead tr:only-child th {\n",
       "        text-align: right;\n",
       "    }\n",
       "\n",
       "    .dataframe thead th {\n",
       "        text-align: left;\n",
       "    }\n",
       "\n",
       "    .dataframe tbody tr th {\n",
       "        vertical-align: top;\n",
       "    }\n",
       "</style>\n",
       "<table border=\"1\" class=\"dataframe\">\n",
       "  <thead>\n",
       "    <tr style=\"text-align: right;\">\n",
       "      <th></th>\n",
       "      <th>UMPD CASENUMBER</th>\n",
       "      <th>OCCURRED DATE TIMELOCATION</th>\n",
       "      <th>REPORT DATE TIME</th>\n",
       "      <th>TYPE</th>\n",
       "      <th>DISPOSITION</th>\n",
       "    </tr>\n",
       "  </thead>\n",
       "  <tbody>\n",
       "    <tr>\n",
       "      <th>1</th>\n",
       "      <td>2013-00011945</td>\n",
       "      <td>03/01/13 01:49</td>\n",
       "      <td>03/01/13 01:49</td>\n",
       "      <td>Assault</td>\n",
       "      <td>Arrest</td>\n",
       "    </tr>\n",
       "    <tr>\n",
       "      <th>2</th>\n",
       "      <td>Frat 13, Zeta Psi Fraternity at 13 Fraternity Row</td>\n",
       "      <td>NaN</td>\n",
       "      <td>NaN</td>\n",
       "      <td>NaN</td>\n",
       "      <td>NaN</td>\n",
       "    </tr>\n",
       "    <tr>\n",
       "      <th>3</th>\n",
       "      <td>2013-00011946</td>\n",
       "      <td>03/01/13 01:38</td>\n",
       "      <td>03/01/13 01:49</td>\n",
       "      <td>Vandalism</td>\n",
       "      <td>Active/Pending</td>\n",
       "    </tr>\n",
       "    <tr>\n",
       "      <th>4</th>\n",
       "      <td>Alpha Sigma Phi, Frat 9 at 9 Fraternity Row</td>\n",
       "      <td>NaN</td>\n",
       "      <td>NaN</td>\n",
       "      <td>NaN</td>\n",
       "      <td>NaN</td>\n",
       "    </tr>\n",
       "    <tr>\n",
       "      <th>5</th>\n",
       "      <td>2013-00011949</td>\n",
       "      <td>03/01/13 02:50</td>\n",
       "      <td>03/01/13 02:50</td>\n",
       "      <td>Injured/Sick Person</td>\n",
       "      <td>CBE</td>\n",
       "    </tr>\n",
       "  </tbody>\n",
       "</table>\n",
       "</div>"
      ],
      "text/plain": [
       "0                                    UMPD CASENUMBER  \\\n",
       "1                                      2013-00011945   \n",
       "2  Frat 13, Zeta Psi Fraternity at 13 Fraternity Row   \n",
       "3                                      2013-00011946   \n",
       "4        Alpha Sigma Phi, Frat 9 at 9 Fraternity Row   \n",
       "5                                      2013-00011949   \n",
       "\n",
       "0 OCCURRED DATE TIMELOCATION REPORT DATE TIME                 TYPE  \\\n",
       "1             03/01/13 01:49   03/01/13 01:49              Assault   \n",
       "2                        NaN              NaN                  NaN   \n",
       "3             03/01/13 01:38   03/01/13 01:49            Vandalism   \n",
       "4                        NaN              NaN                  NaN   \n",
       "5             03/01/13 02:50   03/01/13 02:50  Injured/Sick Person   \n",
       "\n",
       "0     DISPOSITION  \n",
       "1          Arrest  \n",
       "2             NaN  \n",
       "3  Active/Pending  \n",
       "4             NaN  \n",
       "5             CBE  "
      ]
     },
     "execution_count": 3,
     "metadata": {},
     "output_type": "execute_result"
    }
   ],
   "source": [
    "df_year.head()"
   ]
  },
  {
   "cell_type": "markdown",
   "metadata": {},
   "source": [
    "### (2) Extract location information and format the table\n",
    "In the raw table, location information was in the same cell with \"Occurred date and time\", which is misinterpreted by pandas.read_html to a separate row. We extracted location information from all even lines (2nd row, 4th row ...) and create a new column \"LOCATION\" for it.  "
   ]
  },
  {
   "cell_type": "code",
   "execution_count": 4,
   "metadata": {},
   "outputs": [
    {
     "data": {
      "text/plain": [
       "2     Frat 13, Zeta Psi Fraternity at 13 Fraternity Row\n",
       "4           Alpha Sigma Phi, Frat 9 at 9 Fraternity Row\n",
       "6                          Elkton Hall at 254 Denton Dr\n",
       "8            Drazek Circle, UMUC at 346 Ehrensberger Dr\n",
       "10    Stamp Student Union, Student Union, Union at 1...\n",
       "Name: UMPD CASENUMBER, dtype: object"
      ]
     },
     "execution_count": 4,
     "metadata": {},
     "output_type": "execute_result"
    }
   ],
   "source": [
    "even_row = df_year.iloc[1::2]\n",
    "location = even_row['UMPD CASENUMBER']\n",
    "location[:5]"
   ]
  },
  {
   "cell_type": "code",
   "execution_count": 5,
   "metadata": {},
   "outputs": [
    {
     "data": {
      "text/html": [
       "<div>\n",
       "<style>\n",
       "    .dataframe thead tr:only-child th {\n",
       "        text-align: right;\n",
       "    }\n",
       "\n",
       "    .dataframe thead th {\n",
       "        text-align: left;\n",
       "    }\n",
       "\n",
       "    .dataframe tbody tr th {\n",
       "        vertical-align: top;\n",
       "    }\n",
       "</style>\n",
       "<table border=\"1\" class=\"dataframe\">\n",
       "  <thead>\n",
       "    <tr style=\"text-align: right;\">\n",
       "      <th></th>\n",
       "      <th>UMPD CASE NUMBER</th>\n",
       "      <th>OCCURRED DATE TIME</th>\n",
       "      <th>REPORT DATE TIME</th>\n",
       "      <th>TYPE</th>\n",
       "      <th>DISPOSITION</th>\n",
       "      <th>LOCATION</th>\n",
       "    </tr>\n",
       "  </thead>\n",
       "  <tbody>\n",
       "    <tr>\n",
       "      <th>0</th>\n",
       "      <td>2013-00011945</td>\n",
       "      <td>03/01/13 01:49</td>\n",
       "      <td>03/01/13 01:49</td>\n",
       "      <td>Assault</td>\n",
       "      <td>Arrest</td>\n",
       "      <td>Frat 13, Zeta Psi Fraternity at 13 Fraternity Row</td>\n",
       "    </tr>\n",
       "    <tr>\n",
       "      <th>1</th>\n",
       "      <td>2013-00011946</td>\n",
       "      <td>03/01/13 01:38</td>\n",
       "      <td>03/01/13 01:49</td>\n",
       "      <td>Vandalism</td>\n",
       "      <td>Active/Pending</td>\n",
       "      <td>Alpha Sigma Phi, Frat 9 at 9 Fraternity Row</td>\n",
       "    </tr>\n",
       "    <tr>\n",
       "      <th>2</th>\n",
       "      <td>2013-00011949</td>\n",
       "      <td>03/01/13 02:50</td>\n",
       "      <td>03/01/13 02:50</td>\n",
       "      <td>Injured/Sick Person</td>\n",
       "      <td>CBE</td>\n",
       "      <td>Elkton Hall at 254 Denton Dr</td>\n",
       "    </tr>\n",
       "    <tr>\n",
       "      <th>3</th>\n",
       "      <td>2013-00011971</td>\n",
       "      <td>03/01/13 10:40</td>\n",
       "      <td>03/01/13 10:49</td>\n",
       "      <td>Injured/Sick Person</td>\n",
       "      <td>CBE</td>\n",
       "      <td>Drazek Circle, UMUC at 346 Ehrensberger Dr</td>\n",
       "    </tr>\n",
       "    <tr>\n",
       "      <th>4</th>\n",
       "      <td>2013-00011974</td>\n",
       "      <td>03/01/13 09:50</td>\n",
       "      <td>03/01/13 11:56</td>\n",
       "      <td>Theft</td>\n",
       "      <td>Suspended</td>\n",
       "      <td>Stamp Student Union, Student Union, Union at 1...</td>\n",
       "    </tr>\n",
       "  </tbody>\n",
       "</table>\n",
       "</div>"
      ],
      "text/plain": [
       "  UMPD CASE NUMBER OCCURRED DATE TIME REPORT DATE TIME                 TYPE  \\\n",
       "0    2013-00011945     03/01/13 01:49   03/01/13 01:49              Assault   \n",
       "1    2013-00011946     03/01/13 01:38   03/01/13 01:49            Vandalism   \n",
       "2    2013-00011949     03/01/13 02:50   03/01/13 02:50  Injured/Sick Person   \n",
       "3    2013-00011971     03/01/13 10:40   03/01/13 10:49  Injured/Sick Person   \n",
       "4    2013-00011974     03/01/13 09:50   03/01/13 11:56                Theft   \n",
       "\n",
       "      DISPOSITION                                           LOCATION  \n",
       "0          Arrest  Frat 13, Zeta Psi Fraternity at 13 Fraternity Row  \n",
       "1  Active/Pending        Alpha Sigma Phi, Frat 9 at 9 Fraternity Row  \n",
       "2             CBE                       Elkton Hall at 254 Denton Dr  \n",
       "3             CBE         Drazek Circle, UMUC at 346 Ehrensberger Dr  \n",
       "4       Suspended  Stamp Student Union, Student Union, Union at 1...  "
      ]
     },
     "execution_count": 5,
     "metadata": {},
     "output_type": "execute_result"
    }
   ],
   "source": [
    "df_year = df_year.drop(df_year.index[1::2])\n",
    "df_year['LOCATION'] = location.values\n",
    "df_year.columns = ['UMPD CASE NUMBER', 'OCCURRED DATE TIME', 'REPORT DATE TIME', 'TYPE', 'DISPOSITION', 'LOCATION']\n",
    "df_year = df_year.reset_index(drop = True)\n",
    "df_year.head()"
   ]
  },
  {
   "cell_type": "markdown",
   "metadata": {},
   "source": [
    "### (3) Scraped Arrest Report from 2013 to 2018\n",
    "Similarly, we looped through annual data year by year and developed an entire table. We noticed that the report also contains arrest report of January and February 2013 and March, April, May 2018 (It’s updated since we started the project at the end of February 2018), which is irrelevant to our analysis. But we can automatically drop those records when we merged Arrest Report table and Daily Crime Report table on the common key - UMPD CASE NUMBER. We will demonstrate it later. "
   ]
  },
  {
   "cell_type": "code",
   "execution_count": 6,
   "metadata": {
    "collapsed": true
   },
   "outputs": [],
   "source": [
    "years = [2013, 2014, 2015, 2016, 2017, 2018]\n",
    "df_arrest = pd.DataFrame()\n",
    "for year in years:\n",
    "    url = 'http://www.umpd.umd.edu/stats/arrest_report.cfm?year='+str(year)\n",
    "    df = pd.read_html(url, header = None)[0]\n",
    "    df.columns = df.iloc[0]\n",
    "    df = df.iloc[1:,:]\n",
    "    df_arrest = df_arrest.append(df)"
   ]
  },
  {
   "cell_type": "code",
   "execution_count": 7,
   "metadata": {
    "scrolled": true
   },
   "outputs": [
    {
     "data": {
      "text/html": [
       "<div>\n",
       "<style>\n",
       "    .dataframe thead tr:only-child th {\n",
       "        text-align: right;\n",
       "    }\n",
       "\n",
       "    .dataframe thead th {\n",
       "        text-align: left;\n",
       "    }\n",
       "\n",
       "    .dataframe tbody tr th {\n",
       "        vertical-align: top;\n",
       "    }\n",
       "</style>\n",
       "<table border=\"1\" class=\"dataframe\">\n",
       "  <thead>\n",
       "    <tr style=\"text-align: right;\">\n",
       "      <th></th>\n",
       "      <th>ARRESTNUMBER</th>\n",
       "      <th>ARRESTED DATE TIMECHARGE</th>\n",
       "      <th>UMPD CASE NUMBER</th>\n",
       "      <th>AGE</th>\n",
       "      <th>RACE</th>\n",
       "      <th>SEX</th>\n",
       "    </tr>\n",
       "  </thead>\n",
       "  <tbody>\n",
       "    <tr>\n",
       "      <th>1</th>\n",
       "      <td>18237</td>\n",
       "      <td>01/01/13 01:28</td>\n",
       "      <td>2013-00000014</td>\n",
       "      <td>18</td>\n",
       "      <td>Asian/Pacific Islander</td>\n",
       "      <td>Male</td>\n",
       "    </tr>\n",
       "    <tr>\n",
       "      <th>2</th>\n",
       "      <td>(Driving, Attempting to drive) motor veh. with...</td>\n",
       "      <td>NaN</td>\n",
       "      <td>NaN</td>\n",
       "      <td>NaN</td>\n",
       "      <td>NaN</td>\n",
       "      <td>NaN</td>\n",
       "    </tr>\n",
       "    <tr>\n",
       "      <th>3</th>\n",
       "      <td>18235</td>\n",
       "      <td>01/01/13 02:30</td>\n",
       "      <td>2013-00000023</td>\n",
       "      <td>NaN</td>\n",
       "      <td>NaN</td>\n",
       "      <td>NaN</td>\n",
       "    </tr>\n",
       "    <tr>\n",
       "      <th>4</th>\n",
       "      <td>CDS: Possession of Marijuana</td>\n",
       "      <td>NaN</td>\n",
       "      <td>NaN</td>\n",
       "      <td>NaN</td>\n",
       "      <td>NaN</td>\n",
       "      <td>NaN</td>\n",
       "    </tr>\n",
       "    <tr>\n",
       "      <th>5</th>\n",
       "      <td>18236</td>\n",
       "      <td>01/01/13 02:30</td>\n",
       "      <td>2013-00000023</td>\n",
       "      <td>NaN</td>\n",
       "      <td>Asian/Pacific Islander</td>\n",
       "      <td>Male</td>\n",
       "    </tr>\n",
       "  </tbody>\n",
       "</table>\n",
       "</div>"
      ],
      "text/plain": [
       "0                                       ARRESTNUMBER ARRESTED DATE TIMECHARGE  \\\n",
       "1                                              18237           01/01/13 01:28   \n",
       "2  (Driving, Attempting to drive) motor veh. with...                      NaN   \n",
       "3                                              18235           01/01/13 02:30   \n",
       "4                       CDS: Possession of Marijuana                      NaN   \n",
       "5                                              18236           01/01/13 02:30   \n",
       "\n",
       "0 UMPD CASE NUMBER  AGE                    RACE   SEX  \n",
       "1    2013-00000014   18  Asian/Pacific Islander  Male  \n",
       "2              NaN  NaN                     NaN   NaN  \n",
       "3    2013-00000023  NaN                     NaN   NaN  \n",
       "4              NaN  NaN                     NaN   NaN  \n",
       "5    2013-00000023  NaN  Asian/Pacific Islander  Male  "
      ]
     },
     "execution_count": 7,
     "metadata": {},
     "output_type": "execute_result"
    }
   ],
   "source": [
    "df_arrest.head()"
   ]
  },
  {
   "cell_type": "markdown",
   "metadata": {},
   "source": [
    "### (4) Extract arrest reason and format the data frame\n",
    "Again, similar problem appeared in Arrest Report table. \"Charge\", which is the arrested reason, was in the same cell with \"Arrested date and time\" and also misinterpreted to a separate row. We solved it in the same way as what we did to location in Daily Crime data frame."
   ]
  },
  {
   "cell_type": "code",
   "execution_count": 8,
   "metadata": {},
   "outputs": [
    {
     "data": {
      "text/plain": [
       "2     (Driving, Attempting to drive) motor veh. with...\n",
       "4                          CDS: Possession of Marijuana\n",
       "6                          CDS: Possession of Marijuana\n",
       "8     (Driving, Attempting to drive) motor veh. with...\n",
       "10                         CDS: Possession of Marijuana\n",
       "Name: ARRESTNUMBER, dtype: object"
      ]
     },
     "execution_count": 8,
     "metadata": {},
     "output_type": "execute_result"
    }
   ],
   "source": [
    "reason_row = df_arrest.iloc[1::2, :]\n",
    "reason = reason_row['ARRESTNUMBER']\n",
    "reason[:5]"
   ]
  },
  {
   "cell_type": "code",
   "execution_count": 9,
   "metadata": {},
   "outputs": [
    {
     "data": {
      "text/html": [
       "<div>\n",
       "<style>\n",
       "    .dataframe thead tr:only-child th {\n",
       "        text-align: right;\n",
       "    }\n",
       "\n",
       "    .dataframe thead th {\n",
       "        text-align: left;\n",
       "    }\n",
       "\n",
       "    .dataframe tbody tr th {\n",
       "        vertical-align: top;\n",
       "    }\n",
       "</style>\n",
       "<table border=\"1\" class=\"dataframe\">\n",
       "  <thead>\n",
       "    <tr style=\"text-align: right;\">\n",
       "      <th></th>\n",
       "      <th>ARREST NUMBER</th>\n",
       "      <th>ARRESTED DATE TIME</th>\n",
       "      <th>UMPD CASE NUMBER</th>\n",
       "      <th>AGE</th>\n",
       "      <th>RACE</th>\n",
       "      <th>SEX</th>\n",
       "      <th>ARREST REASON</th>\n",
       "    </tr>\n",
       "  </thead>\n",
       "  <tbody>\n",
       "    <tr>\n",
       "      <th>0</th>\n",
       "      <td>18237</td>\n",
       "      <td>01/01/13 01:28</td>\n",
       "      <td>2013-00000014</td>\n",
       "      <td>18</td>\n",
       "      <td>Asian/Pacific Islander</td>\n",
       "      <td>Male</td>\n",
       "      <td>(Driving, Attempting to drive) motor veh. with...</td>\n",
       "    </tr>\n",
       "    <tr>\n",
       "      <th>1</th>\n",
       "      <td>18235</td>\n",
       "      <td>01/01/13 02:30</td>\n",
       "      <td>2013-00000023</td>\n",
       "      <td>NaN</td>\n",
       "      <td>NaN</td>\n",
       "      <td>NaN</td>\n",
       "      <td>CDS: Possession of Marijuana</td>\n",
       "    </tr>\n",
       "    <tr>\n",
       "      <th>2</th>\n",
       "      <td>18236</td>\n",
       "      <td>01/01/13 02:30</td>\n",
       "      <td>2013-00000023</td>\n",
       "      <td>NaN</td>\n",
       "      <td>Asian/Pacific Islander</td>\n",
       "      <td>Male</td>\n",
       "      <td>CDS: Possession of Marijuana</td>\n",
       "    </tr>\n",
       "    <tr>\n",
       "      <th>3</th>\n",
       "      <td>18238</td>\n",
       "      <td>01/01/13 03:33</td>\n",
       "      <td>2013-00000027</td>\n",
       "      <td>NaN</td>\n",
       "      <td>White</td>\n",
       "      <td>Male</td>\n",
       "      <td>(Driving, Attempting to drive) motor veh. with...</td>\n",
       "    </tr>\n",
       "    <tr>\n",
       "      <th>4</th>\n",
       "      <td>18239</td>\n",
       "      <td>01/02/13 19:11</td>\n",
       "      <td>2013-00000303</td>\n",
       "      <td>NaN</td>\n",
       "      <td>White</td>\n",
       "      <td>Male</td>\n",
       "      <td>CDS: Possession of Marijuana</td>\n",
       "    </tr>\n",
       "  </tbody>\n",
       "</table>\n",
       "</div>"
      ],
      "text/plain": [
       "  ARREST NUMBER ARRESTED DATE TIME UMPD CASE NUMBER  AGE  \\\n",
       "0         18237     01/01/13 01:28    2013-00000014   18   \n",
       "1         18235     01/01/13 02:30    2013-00000023  NaN   \n",
       "2         18236     01/01/13 02:30    2013-00000023  NaN   \n",
       "3         18238     01/01/13 03:33    2013-00000027  NaN   \n",
       "4         18239     01/02/13 19:11    2013-00000303  NaN   \n",
       "\n",
       "                     RACE   SEX  \\\n",
       "0  Asian/Pacific Islander  Male   \n",
       "1                     NaN   NaN   \n",
       "2  Asian/Pacific Islander  Male   \n",
       "3                   White  Male   \n",
       "4                   White  Male   \n",
       "\n",
       "                                       ARREST REASON  \n",
       "0  (Driving, Attempting to drive) motor veh. with...  \n",
       "1                       CDS: Possession of Marijuana  \n",
       "2                       CDS: Possession of Marijuana  \n",
       "3  (Driving, Attempting to drive) motor veh. with...  \n",
       "4                       CDS: Possession of Marijuana  "
      ]
     },
     "execution_count": 9,
     "metadata": {},
     "output_type": "execute_result"
    }
   ],
   "source": [
    "df_arrest = df_arrest.drop(df_arrest.index[1::2])\n",
    "df_arrest['ARREST REASON'] = reason.values\n",
    "df_arrest.columns = ['ARREST NUMBER','ARRESTED DATE TIME', 'UMPD CASE NUMBER', 'AGE', 'RACE', 'SEX', 'ARREST REASON']\n",
    "df_arrest = df_arrest.reset_index(drop = True)\n",
    "df_arrest.head()"
   ]
  },
  {
   "cell_type": "markdown",
   "metadata": {},
   "source": [
    "### (5) Merge two data frames together on 'UMPD CASE NUMBER'\n",
    "To establish a holistic view of the crime on campus, we merged clean \"Daily Crime\" and \"Arrest Report\" data frames. By left joining:\n",
    "- We can drop extra arrest report of January and February 2013 and March 2018, because the daily crime data of these months is not imported. (i.e. The left table does not contain information of those months)\n",
    "- We can fill all arrest information of unarrested cases with NaN. "
   ]
  },
  {
   "cell_type": "code",
   "execution_count": 10,
   "metadata": {
    "scrolled": false
   },
   "outputs": [
    {
     "data": {
      "text/html": [
       "<div>\n",
       "<style>\n",
       "    .dataframe thead tr:only-child th {\n",
       "        text-align: right;\n",
       "    }\n",
       "\n",
       "    .dataframe thead th {\n",
       "        text-align: left;\n",
       "    }\n",
       "\n",
       "    .dataframe tbody tr th {\n",
       "        vertical-align: top;\n",
       "    }\n",
       "</style>\n",
       "<table border=\"1\" class=\"dataframe\">\n",
       "  <thead>\n",
       "    <tr style=\"text-align: right;\">\n",
       "      <th></th>\n",
       "      <th>UMPD CASE NUMBER</th>\n",
       "      <th>OCCURRED DATE TIME</th>\n",
       "      <th>REPORT DATE TIME</th>\n",
       "      <th>TYPE</th>\n",
       "      <th>DISPOSITION</th>\n",
       "      <th>LOCATION</th>\n",
       "      <th>ARREST NUMBER</th>\n",
       "      <th>ARRESTED DATE TIME</th>\n",
       "      <th>AGE</th>\n",
       "      <th>RACE</th>\n",
       "      <th>SEX</th>\n",
       "      <th>ARREST REASON</th>\n",
       "    </tr>\n",
       "  </thead>\n",
       "  <tbody>\n",
       "    <tr>\n",
       "      <th>0</th>\n",
       "      <td>2013-00011945</td>\n",
       "      <td>03/01/13 01:49</td>\n",
       "      <td>03/01/13 01:49</td>\n",
       "      <td>Assault</td>\n",
       "      <td>Arrest</td>\n",
       "      <td>Frat 13, Zeta Psi Fraternity at 13 Fraternity Row</td>\n",
       "      <td>18400</td>\n",
       "      <td>03/01/13 01:51</td>\n",
       "      <td>NaN</td>\n",
       "      <td>White</td>\n",
       "      <td>Male</td>\n",
       "      <td>Assault-2nd Degree-Law Enforcement Officer; Si...</td>\n",
       "    </tr>\n",
       "    <tr>\n",
       "      <th>1</th>\n",
       "      <td>2013-00011946</td>\n",
       "      <td>03/01/13 01:38</td>\n",
       "      <td>03/01/13 01:49</td>\n",
       "      <td>Vandalism</td>\n",
       "      <td>Active/Pending</td>\n",
       "      <td>Alpha Sigma Phi, Frat 9 at 9 Fraternity Row</td>\n",
       "      <td>NaN</td>\n",
       "      <td>NaN</td>\n",
       "      <td>NaN</td>\n",
       "      <td>NaN</td>\n",
       "      <td>NaN</td>\n",
       "      <td>NaN</td>\n",
       "    </tr>\n",
       "    <tr>\n",
       "      <th>2</th>\n",
       "      <td>2013-00011949</td>\n",
       "      <td>03/01/13 02:50</td>\n",
       "      <td>03/01/13 02:50</td>\n",
       "      <td>Injured/Sick Person</td>\n",
       "      <td>CBE</td>\n",
       "      <td>Elkton Hall at 254 Denton Dr</td>\n",
       "      <td>NaN</td>\n",
       "      <td>NaN</td>\n",
       "      <td>NaN</td>\n",
       "      <td>NaN</td>\n",
       "      <td>NaN</td>\n",
       "      <td>NaN</td>\n",
       "    </tr>\n",
       "    <tr>\n",
       "      <th>3</th>\n",
       "      <td>2013-00011971</td>\n",
       "      <td>03/01/13 10:40</td>\n",
       "      <td>03/01/13 10:49</td>\n",
       "      <td>Injured/Sick Person</td>\n",
       "      <td>CBE</td>\n",
       "      <td>Drazek Circle, UMUC at 346 Ehrensberger Dr</td>\n",
       "      <td>NaN</td>\n",
       "      <td>NaN</td>\n",
       "      <td>NaN</td>\n",
       "      <td>NaN</td>\n",
       "      <td>NaN</td>\n",
       "      <td>NaN</td>\n",
       "    </tr>\n",
       "    <tr>\n",
       "      <th>4</th>\n",
       "      <td>2013-00011974</td>\n",
       "      <td>03/01/13 09:50</td>\n",
       "      <td>03/01/13 11:56</td>\n",
       "      <td>Theft</td>\n",
       "      <td>Suspended</td>\n",
       "      <td>Stamp Student Union, Student Union, Union at 1...</td>\n",
       "      <td>NaN</td>\n",
       "      <td>NaN</td>\n",
       "      <td>NaN</td>\n",
       "      <td>NaN</td>\n",
       "      <td>NaN</td>\n",
       "      <td>NaN</td>\n",
       "    </tr>\n",
       "  </tbody>\n",
       "</table>\n",
       "</div>"
      ],
      "text/plain": [
       "  UMPD CASE NUMBER OCCURRED DATE TIME REPORT DATE TIME                 TYPE  \\\n",
       "0    2013-00011945     03/01/13 01:49   03/01/13 01:49              Assault   \n",
       "1    2013-00011946     03/01/13 01:38   03/01/13 01:49            Vandalism   \n",
       "2    2013-00011949     03/01/13 02:50   03/01/13 02:50  Injured/Sick Person   \n",
       "3    2013-00011971     03/01/13 10:40   03/01/13 10:49  Injured/Sick Person   \n",
       "4    2013-00011974     03/01/13 09:50   03/01/13 11:56                Theft   \n",
       "\n",
       "      DISPOSITION                                           LOCATION  \\\n",
       "0          Arrest  Frat 13, Zeta Psi Fraternity at 13 Fraternity Row   \n",
       "1  Active/Pending        Alpha Sigma Phi, Frat 9 at 9 Fraternity Row   \n",
       "2             CBE                       Elkton Hall at 254 Denton Dr   \n",
       "3             CBE         Drazek Circle, UMUC at 346 Ehrensberger Dr   \n",
       "4       Suspended  Stamp Student Union, Student Union, Union at 1...   \n",
       "\n",
       "  ARREST NUMBER ARRESTED DATE TIME  AGE   RACE   SEX  \\\n",
       "0         18400     03/01/13 01:51  NaN  White  Male   \n",
       "1           NaN                NaN  NaN    NaN   NaN   \n",
       "2           NaN                NaN  NaN    NaN   NaN   \n",
       "3           NaN                NaN  NaN    NaN   NaN   \n",
       "4           NaN                NaN  NaN    NaN   NaN   \n",
       "\n",
       "                                       ARREST REASON  \n",
       "0  Assault-2nd Degree-Law Enforcement Officer; Si...  \n",
       "1                                                NaN  \n",
       "2                                                NaN  \n",
       "3                                                NaN  \n",
       "4                                                NaN  "
      ]
     },
     "execution_count": 10,
     "metadata": {},
     "output_type": "execute_result"
    }
   ],
   "source": [
    "df = df_year.merge(df_arrest, how = 'left', on = 'UMPD CASE NUMBER')\n",
    "df.head()"
   ]
  },
  {
   "cell_type": "markdown",
   "metadata": {},
   "source": [
    "### (6) Drop columns with little help to our analysis\n",
    "- In the full table, column “ARREST NUMBER” is not contributing to our analysis.So we dropped the column.\n",
    "- We also noticed that column “AGE” contains too many missing values (1758 out of 3171, over 50%). It's not appropriate to fill missing values with mean or median because the distribution of existing Age data widely ranged and the distribution can be largely affected by the missing half. Filling them may add bias to our analysis so we decided to drop it though there may be trend between crimes and age. Besides, considering the recommendations derived, it's more valuable to be careful about dangerous time and place instead of people in \"dangerous age\"."
   ]
  },
  {
   "cell_type": "code",
   "execution_count": 11,
   "metadata": {},
   "outputs": [
    {
     "name": "stdout",
     "output_type": "stream",
     "text": [
      "1758 3171\n"
     ]
    }
   ],
   "source": [
    "missing = df_arrest['AGE'].isnull().sum()\n",
    "print(missing, len(df_arrest['AGE']))"
   ]
  },
  {
   "cell_type": "code",
   "execution_count": 12,
   "metadata": {},
   "outputs": [
    {
     "data": {
      "text/plain": [
       "<matplotlib.axes._subplots.AxesSubplot at 0x168997332b0>"
      ]
     },
     "execution_count": 12,
     "metadata": {},
     "output_type": "execute_result"
    },
    {
     "data": {
      "image/png": "[encoded data removed]",
      "text/plain": [
       "<matplotlib.figure.Figure at 0x1689973b898>"
      ]
     },
     "metadata": {},
     "output_type": "display_data"
    }
   ],
   "source": [
    "age = df_arrest[df_arrest['AGE'].notnull()]['AGE']\n",
    "new_age = np.array([int(a) for a in age])\n",
    "sns.violinplot(new_age)"
   ]
  },
  {
   "cell_type": "markdown",
   "metadata": {},
   "source": [
    "After visualizing the distribution of age, we decided to drop this column."
   ]
  },
  {
   "cell_type": "code",
   "execution_count": 13,
   "metadata": {},
   "outputs": [
    {
     "data": {
      "text/html": [
       "<div>\n",
       "<style>\n",
       "    .dataframe thead tr:only-child th {\n",
       "        text-align: right;\n",
       "    }\n",
       "\n",
       "    .dataframe thead th {\n",
       "        text-align: left;\n",
       "    }\n",
       "\n",
       "    .dataframe tbody tr th {\n",
       "        vertical-align: top;\n",
       "    }\n",
       "</style>\n",
       "<table border=\"1\" class=\"dataframe\">\n",
       "  <thead>\n",
       "    <tr style=\"text-align: right;\">\n",
       "      <th></th>\n",
       "      <th>UMPD CASE NUMBER</th>\n",
       "      <th>OCCURRED DATE TIME</th>\n",
       "      <th>REPORT DATE TIME</th>\n",
       "      <th>TYPE</th>\n",
       "      <th>DISPOSITION</th>\n",
       "      <th>LOCATION</th>\n",
       "      <th>ARRESTED DATE TIME</th>\n",
       "      <th>RACE</th>\n",
       "      <th>SEX</th>\n",
       "      <th>ARREST REASON</th>\n",
       "    </tr>\n",
       "  </thead>\n",
       "  <tbody>\n",
       "    <tr>\n",
       "      <th>0</th>\n",
       "      <td>2013-00011945</td>\n",
       "      <td>03/01/13 01:49</td>\n",
       "      <td>03/01/13 01:49</td>\n",
       "      <td>Assault</td>\n",
       "      <td>Arrest</td>\n",
       "      <td>Frat 13, Zeta Psi Fraternity at 13 Fraternity Row</td>\n",
       "      <td>03/01/13 01:51</td>\n",
       "      <td>White</td>\n",
       "      <td>Male</td>\n",
       "      <td>Assault-2nd Degree-Law Enforcement Officer; Si...</td>\n",
       "    </tr>\n",
       "    <tr>\n",
       "      <th>1</th>\n",
       "      <td>2013-00011946</td>\n",
       "      <td>03/01/13 01:38</td>\n",
       "      <td>03/01/13 01:49</td>\n",
       "      <td>Vandalism</td>\n",
       "      <td>Active/Pending</td>\n",
       "      <td>Alpha Sigma Phi, Frat 9 at 9 Fraternity Row</td>\n",
       "      <td>NaN</td>\n",
       "      <td>NaN</td>\n",
       "      <td>NaN</td>\n",
       "      <td>NaN</td>\n",
       "    </tr>\n",
       "    <tr>\n",
       "      <th>2</th>\n",
       "      <td>2013-00011949</td>\n",
       "      <td>03/01/13 02:50</td>\n",
       "      <td>03/01/13 02:50</td>\n",
       "      <td>Injured/Sick Person</td>\n",
       "      <td>CBE</td>\n",
       "      <td>Elkton Hall at 254 Denton Dr</td>\n",
       "      <td>NaN</td>\n",
       "      <td>NaN</td>\n",
       "      <td>NaN</td>\n",
       "      <td>NaN</td>\n",
       "    </tr>\n",
       "    <tr>\n",
       "      <th>3</th>\n",
       "      <td>2013-00011971</td>\n",
       "      <td>03/01/13 10:40</td>\n",
       "      <td>03/01/13 10:49</td>\n",
       "      <td>Injured/Sick Person</td>\n",
       "      <td>CBE</td>\n",
       "      <td>Drazek Circle, UMUC at 346 Ehrensberger Dr</td>\n",
       "      <td>NaN</td>\n",
       "      <td>NaN</td>\n",
       "      <td>NaN</td>\n",
       "      <td>NaN</td>\n",
       "    </tr>\n",
       "    <tr>\n",
       "      <th>4</th>\n",
       "      <td>2013-00011974</td>\n",
       "      <td>03/01/13 09:50</td>\n",
       "      <td>03/01/13 11:56</td>\n",
       "      <td>Theft</td>\n",
       "      <td>Suspended</td>\n",
       "      <td>Stamp Student Union, Student Union, Union at 1...</td>\n",
       "      <td>NaN</td>\n",
       "      <td>NaN</td>\n",
       "      <td>NaN</td>\n",
       "      <td>NaN</td>\n",
       "    </tr>\n",
       "  </tbody>\n",
       "</table>\n",
       "</div>"
      ],
      "text/plain": [
       "  UMPD CASE NUMBER OCCURRED DATE TIME REPORT DATE TIME                 TYPE  \\\n",
       "0    2013-00011945     03/01/13 01:49   03/01/13 01:49              Assault   \n",
       "1    2013-00011946     03/01/13 01:38   03/01/13 01:49            Vandalism   \n",
       "2    2013-00011949     03/01/13 02:50   03/01/13 02:50  Injured/Sick Person   \n",
       "3    2013-00011971     03/01/13 10:40   03/01/13 10:49  Injured/Sick Person   \n",
       "4    2013-00011974     03/01/13 09:50   03/01/13 11:56                Theft   \n",
       "\n",
       "      DISPOSITION                                           LOCATION  \\\n",
       "0          Arrest  Frat 13, Zeta Psi Fraternity at 13 Fraternity Row   \n",
       "1  Active/Pending        Alpha Sigma Phi, Frat 9 at 9 Fraternity Row   \n",
       "2             CBE                       Elkton Hall at 254 Denton Dr   \n",
       "3             CBE         Drazek Circle, UMUC at 346 Ehrensberger Dr   \n",
       "4       Suspended  Stamp Student Union, Student Union, Union at 1...   \n",
       "\n",
       "  ARRESTED DATE TIME   RACE   SEX  \\\n",
       "0     03/01/13 01:51  White  Male   \n",
       "1                NaN    NaN   NaN   \n",
       "2                NaN    NaN   NaN   \n",
       "3                NaN    NaN   NaN   \n",
       "4                NaN    NaN   NaN   \n",
       "\n",
       "                                       ARREST REASON  \n",
       "0  Assault-2nd Degree-Law Enforcement Officer; Si...  \n",
       "1                                                NaN  \n",
       "2                                                NaN  \n",
       "3                                                NaN  \n",
       "4                                                NaN  "
      ]
     },
     "execution_count": 13,
     "metadata": {},
     "output_type": "execute_result"
    }
   ],
   "source": [
    "df = df.drop(['ARREST NUMBER', 'AGE'], axis = 1)\n",
    "df.head()"
   ]
  },
  {
   "cell_type": "markdown",
   "metadata": {},
   "source": [
    "Finally, we got a dataframe with columns: \n",
    "- Case number\n",
    "- Crime occurred date and time\n",
    "- Crime report date and time\n",
    "- Crime type\n",
    "- Case desposition\n",
    "- Occurred location\n",
    "- Arrested date and time\n",
    "- Criminal race\n",
    "- Criminal gender\n",
    "- Arrested Reason"
   ]
  },
  {
   "cell_type": "markdown",
   "metadata": {},
   "source": [
    "## 3. Analysis\n",
    "Based on common sense, crime should be related to \"time\", \"location\" and \"demographic information of criminals\". Hence, we designed the following exploration:"
   ]
  },
  {
   "cell_type": "markdown",
   "metadata": {},
   "source": [
    "### (1) Number of crimes with month\n",
    "First, we want to figure out if there is seasonality in the number of crimes happened. So we separated crime occurred date (mm/dd/yyyy) with occurred time (hh:MM) into two columns and sought the relationship between number of crimes and date. There are cases occurred before March 2013 but reported after that in our dataset, so we chose to drop those records because cases happened after 03/01/2013 were our target. "
   ]
  },
  {
   "cell_type": "code",
   "execution_count": 14,
   "metadata": {
    "collapsed": true
   },
   "outputs": [],
   "source": [
    "# insert new column called 'DATE'\n",
    "df['DATE'] = pd.to_datetime(df['OCCURRED DATE TIME']).dt.date"
   ]
  },
  {
   "cell_type": "code",
   "execution_count": 15,
   "metadata": {
    "collapsed": true
   },
   "outputs": [],
   "source": [
    "# choose occured date after 2013.3.1, which is the start time of our analysis\n",
    "df_date = df[df['DATE'] > dt.date(2013,3,1)]"
   ]
  },
  {
   "cell_type": "code",
   "execution_count": 16,
   "metadata": {
    "collapsed": true
   },
   "outputs": [],
   "source": [
    "# create pivot table and dealing with index format\n",
    "date = df_date.pivot_table(index = 'DATE',values = 'UMPD CASE NUMBER',aggfunc = 'count')\n",
    "date.index = pd.to_datetime(date.index)\n",
    "date.index = date.index.map(lambda x : x.strftime('%Y-%m'))"
   ]
  },
  {
   "cell_type": "code",
   "execution_count": 17,
   "metadata": {
    "collapsed": true
   },
   "outputs": [],
   "source": [
    "month=date.groupby(date.index).sum()"
   ]
  },
  {
   "cell_type": "code",
   "execution_count": 18,
   "metadata": {
    "scrolled": true
   },
   "outputs": [
    {
     "data": {
      "image/png": "[encoded data removed]",
      "text/plain": [
       "<matplotlib.figure.Figure at 0x168997482b0>"
      ]
     },
     "metadata": {},
     "output_type": "display_data"
    }
   ],
   "source": [
    "fig, ax = plt.subplots(figsize = (16,4))\n",
    "ax.plot(month)\n",
    "fig.autofmt_xdate(rotation = 90, ha = 'left')"
   ]
  },
  {
   "cell_type": "markdown",
   "metadata": {},
   "source": [
    "It seems that the fluctuation has no clear trend along date, but the interval between every two raised areas is similar to each other. We then decided to explore the relationship between number of crimes and month. "
   ]
  },
  {
   "cell_type": "code",
   "execution_count": 19,
   "metadata": {
    "collapsed": true
   },
   "outputs": [],
   "source": [
    "date = df_date.pivot_table(index = 'DATE',values = 'UMPD CASE NUMBER',aggfunc = 'count').reset_index()\n",
    "date['Year'] = date['DATE'].map(lambda x : x.strftime('%Y'))\n",
    "date['Month']= date['DATE'].map(lambda x : x.strftime('%m'))\n",
    "date = date.drop('DATE',1)\n",
    "date = date.astype(int)"
   ]
  },
  {
   "cell_type": "code",
   "execution_count": 20,
   "metadata": {
    "collapsed": true
   },
   "outputs": [],
   "source": [
    "# group by year and month\n",
    "group_by_date = date.groupby(['Month','Year']).sum()\n",
    "group_by_date = group_by_date.reset_index(level = 1)"
   ]
  },
  {
   "cell_type": "code",
   "execution_count": 21,
   "metadata": {},
   "outputs": [
    {
     "data": {
      "image/png": "[encoded data removed]",
      "text/plain": [
       "<matplotlib.figure.Figure at 0x16899d12550>"
      ]
     },
     "metadata": {},
     "output_type": "display_data"
    }
   ],
   "source": [
    "# box plot\n",
    "fig, ax = plt.subplots(figsize=(10,6))\n",
    "ax = sns.boxplot(data=group_by_date,y='UMPD CASE NUMBER', x =group_by_date.index, flierprops={'marker': '.'})\n",
    "sns.despine(left=False, top=True, right=True, trim=True, offset=10) \n",
    "ax.set_ylabel('Number of crime')\n",
    "plt.title('The Distribution Of Number Of Crimes in Each Month');"
   ]
  },
  {
   "cell_type": "markdown",
   "metadata": {},
   "source": [
    "### Conclusion:\n",
    "According to the boxplot above, we can tell there is a clear pattern about month and number of incidents. The number of incidences starts to rise in February and reaches first pick in April. Then it drops in June, gradually reaches its second pick in October, and decreases again. The pattern matches University calendar: there are more crimes during the semester, and less crimes during summer vacation and winter vacation. It's probably because less students are in campus during vacations. We can draw conclusion that the number of crimes is related to student behavior, which might indicate that college students are major criminals around UMD."
   ]
  },
  {
   "cell_type": "markdown",
   "metadata": {},
   "source": [
    "### (2) Number of crimes with time (24h)\n",
    "Second, we are interested in \"the most dangerous time\" in a day. We grouped crimes by hours to see if there is pattern of crimes happening at different time. "
   ]
  },
  {
   "cell_type": "code",
   "execution_count": 22,
   "metadata": {
    "collapsed": true
   },
   "outputs": [],
   "source": [
    "# insert new column 'TIME'\n",
    "df['TIME'] = pd.to_datetime(df['OCCURRED DATE TIME']).dt.hour"
   ]
  },
  {
   "cell_type": "code",
   "execution_count": 23,
   "metadata": {
    "collapsed": true
   },
   "outputs": [],
   "source": [
    "# pivot table about time and number of incedents\n",
    "time = df.pivot_table(index = 'TIME',values = 'UMPD CASE NUMBER',aggfunc = 'count')"
   ]
  },
  {
   "cell_type": "code",
   "execution_count": 24,
   "metadata": {},
   "outputs": [
    {
     "data": {
      "image/png": "[encoded data removed]",
      "text/plain": [
       "<matplotlib.figure.Figure at 0x16899dddb70>"
      ]
     },
     "metadata": {},
     "output_type": "display_data"
    }
   ],
   "source": [
    "# bar plot\n",
    "ax = time.plot(kind = 'bar',figsize = (15,6),color = 'orangered')\n",
    "plt.setp(ax.get_xticklabels(), rotation=0, horizontalalignment='right')\n",
    "ax.set_ylabel('Number of crime')\n",
    "plt.title('Number Of Crime In Hour')\n",
    "plt.show()"
   ]
  },
  {
   "cell_type": "markdown",
   "metadata": {},
   "source": [
    "### Conclusion:\n",
    "The bar plot above shows that crimes usually happen during mid-night, and noon. The most dangerous time during the daytime is noon, which might be due to more people heading to different directions during their lunch break and busier street. It's easy for criminals to choose target and escape after committing crimes. Also in the night, 12AM and 1AM are the most dangerous time of, which is quite reasonable. Because night is quieter than daytime, the risk of committing crimes is lower and people are less alert."
   ]
  },
  {
   "cell_type": "markdown",
   "metadata": {},
   "source": [
    "### (3) Crime type with gender\n",
    "After analysis on date and time with crimes happened, it came to us that male and female criminals may perform differently when committing crimes. Hence, we analyzed the relationship between gender and crime type. To better analyze and visualize our results, we grouped low-frequency crimes as \"Other\". Also, some crime types have annotations in parentheses which make it redundant for visualization, so we re-formatted the type. "
   ]
  },
  {
   "cell_type": "code",
   "execution_count": 25,
   "metadata": {
    "collapsed": true
   },
   "outputs": [],
   "source": [
    "# combine crime type\n",
    "df['TYPE'] = df['TYPE'].str.replace('\\s\\([^)]*\\)','')\n",
    "df['TYPE'] = df['TYPE'].str.split(' /').str[0]"
   ]
  },
  {
   "cell_type": "code",
   "execution_count": 26,
   "metadata": {
    "collapsed": true
   },
   "outputs": [],
   "source": [
    "# set crime type that appeared less frequent as 'Other'\n",
    "typ = df.groupby('TYPE').count().sort_values(by = 'UMPD CASE NUMBER',ascending = False)\n",
    "df['TYPE'] = df['TYPE'].where(df['TYPE'].isin(typ.index[0:20]),'Other')"
   ]
  },
  {
   "cell_type": "code",
   "execution_count": 27,
   "metadata": {
    "collapsed": true
   },
   "outputs": [],
   "source": [
    "# create pivot table about gender and crime type\n",
    "gender = df.pivot_table(index = 'TYPE', columns = 'SEX',values = 'UMPD CASE NUMBER',aggfunc = 'count').sort_values(by = 'Male',ascending = False)"
   ]
  },
  {
   "cell_type": "code",
   "execution_count": 28,
   "metadata": {},
   "outputs": [
    {
     "data": {
      "image/png": "[encoded data removed]",
      "text/plain": [
       "<matplotlib.figure.Figure at 0x1689afc92e8>"
      ]
     },
     "metadata": {},
     "output_type": "display_data"
    }
   ],
   "source": [
    "ax = gender.plot(kind = 'bar',figsize = (10,6),color = ['orangered','turquoise'])\n",
    "plt.setp(ax.get_xticklabels(), rotation=30, horizontalalignment='right')\n",
    "ax.set_ylabel('Number of crime')\n",
    "plt.title('Crime Type With Gender')\n",
    "plt.show()"
   ]
  },
  {
   "cell_type": "code",
   "execution_count": 29,
   "metadata": {},
   "outputs": [
    {
     "data": {
      "text/plain": [
       "TYPE\n",
       "CDS Violation              150.0\n",
       "DWI/DUI                    124.0\n",
       "Other                       44.0\n",
       "Traffic Arrest              33.0\n",
       "Theft                       23.0\n",
       "Burglary                    12.0\n",
       "Disorderly Conduct          11.0\n",
       "Assault                     10.0\n",
       "Trespassing                  4.0\n",
       "Warrant/Summons Service      3.0\n",
       "Vandalism                    2.0\n",
       "Suspicious Activity          1.0\n",
       "Fraud                        1.0\n",
       "Stolen Motor Vehicle         1.0\n",
       "Other Incident               NaN\n",
       "Injured/Sick Person          NaN\n",
       "Emergency Petition           NaN\n",
       "Name: Female, dtype: float64"
      ]
     },
     "execution_count": 29,
     "metadata": {},
     "output_type": "execute_result"
    }
   ],
   "source": [
    "female = gender['Female'].sort_values(ascending=False)\n",
    "female"
   ]
  },
  {
   "cell_type": "code",
   "execution_count": 30,
   "metadata": {},
   "outputs": [
    {
     "data": {
      "text/plain": [
       "TYPE\n",
       "CDS Violation              628.0\n",
       "DWI/DUI                    601.0\n",
       "Other                      298.0\n",
       "Theft                      197.0\n",
       "Traffic Arrest             132.0\n",
       "Trespassing                 82.0\n",
       "Burglary                    81.0\n",
       "Disorderly Conduct          79.0\n",
       "Assault                     53.0\n",
       "Vandalism                   38.0\n",
       "Stolen Motor Vehicle        33.0\n",
       "Fraud                       16.0\n",
       "Suspicious Activity          8.0\n",
       "Warrant/Summons Service      6.0\n",
       "Injured/Sick Person          1.0\n",
       "Other Incident               1.0\n",
       "Emergency Petition           1.0\n",
       "Name: Male, dtype: float64"
      ]
     },
     "execution_count": 30,
     "metadata": {},
     "output_type": "execute_result"
    }
   ],
   "source": [
    "male = gender['Male'].sort_values(ascending=False)\n",
    "male"
   ]
  },
  {
   "cell_type": "markdown",
   "metadata": {},
   "source": [
    "### Conclusions:\n",
    "Obviously, male committed more crimes than female. And quite surprisingly, the most 'popular' crime is CDS violation (Controlled Drug Substance), and DWI/DUI, (Driving Under/With Influence). Combined with our previous analysis on dangerous time, we can picture some college students are having party around midnight and got caught because some of the actions they did. The list can help to show details more clearly. "
   ]
  },
  {
   "cell_type": "markdown",
   "metadata": {},
   "source": [
    "### (4) Crime type with respond time\n",
    "We noticed that for some cases, it's reported right after it happened; while for other, it may be reported a long time after the occurrence, even after years. Then we planned to dig into the possible reasons in order to get some insights. To do that, we created a column named \"RESPONSE\" for response time of a case. "
   ]
  },
  {
   "cell_type": "code",
   "execution_count": 31,
   "metadata": {
    "collapsed": true
   },
   "outputs": [],
   "source": [
    "# transform time to datetime object\n",
    "df['REPORT DATE TIME'] = pd.to_datetime(df['REPORT DATE TIME'])\n",
    "df['OCCURRED DATE TIME'] = pd.to_datetime(df['OCCURRED DATE TIME'])"
   ]
  },
  {
   "cell_type": "code",
   "execution_count": 32,
   "metadata": {
    "collapsed": true
   },
   "outputs": [],
   "source": [
    "# insert column 'RESPONSE'\n",
    "df['RESPONCE']=  df['REPORT DATE TIME']-df['OCCURRED DATE TIME']\n",
    "df['RESPONCE'] = pd.to_datetime(df['RESPONCE']).dt.minute"
   ]
  },
  {
   "cell_type": "code",
   "execution_count": 33,
   "metadata": {
    "collapsed": true
   },
   "outputs": [],
   "source": [
    "type_time = df.pivot_table(index = 'TYPE', values = 'RESPONCE',aggfunc = 'mean').sort_values(by = 'RESPONCE',ascending = False)"
   ]
  },
  {
   "cell_type": "code",
   "execution_count": 34,
   "metadata": {
    "collapsed": true
   },
   "outputs": [],
   "source": [
    "sort_rsp = type_time"
   ]
  },
  {
   "cell_type": "code",
   "execution_count": 35,
   "metadata": {},
   "outputs": [
    {
     "data": {
      "image/png": "[encoded data removed]",
      "text/plain": [
       "<matplotlib.figure.Figure at 0x1689a193160>"
      ]
     },
     "metadata": {},
     "output_type": "display_data"
    }
   ],
   "source": [
    "# bar plot\n",
    "ax = sort_rsp.plot(kind = 'bar',figsize = (15,6),color = 'orangered')\n",
    "plt.setp(ax.get_xticklabels(), rotation=30, horizontalalignment='right')\n",
    "ax.set_ylabel('Response time')\n",
    "plt.title('Response Time With Crime Type')\n",
    "plt.show()"
   ]
  },
  {
   "cell_type": "markdown",
   "metadata": {},
   "source": [
    "### Conclusions: \n",
    "Response time is the time when people realize something bad happen to them and report to law enforcement. We thought there might be a relationship between crime type and response time. The highest average response time is more than 25 minutes, and the crime type associated with it is Theft. The second one is Fraud and Vandalism (destroy public property). These types of crime are hard to be noticed by victims. It might take more than 20 minutes to notice something happened. As for crime like CDS violation, DWI/DUI, Traffic Arrest, it is hard to tell when does the crime occurred, and is happening when police officers find criminals."
   ]
  },
  {
   "cell_type": "markdown",
   "metadata": {},
   "source": [
    "### (5) Number of crimes with location\n",
    "At last, we believed that there were some dangerous places on campus where crimes occurred more frequently. It would help a lot if we found them out. Hence, we plotted an interactive map to see the relationship between number of crimes and locations."
   ]
  },
  {
   "cell_type": "code",
   "execution_count": 36,
   "metadata": {
    "collapsed": true
   },
   "outputs": [],
   "source": [
    "import requests\n",
    "from random import randint\n",
    "from time import sleep"
   ]
  },
  {
   "cell_type": "code",
   "execution_count": 37,
   "metadata": {},
   "outputs": [
    {
     "data": {
      "text/html": [
       "<div>\n",
       "<style>\n",
       "    .dataframe thead tr:only-child th {\n",
       "        text-align: right;\n",
       "    }\n",
       "\n",
       "    .dataframe thead th {\n",
       "        text-align: left;\n",
       "    }\n",
       "\n",
       "    .dataframe tbody tr th {\n",
       "        vertical-align: top;\n",
       "    }\n",
       "</style>\n",
       "<table border=\"1\" class=\"dataframe\">\n",
       "  <thead>\n",
       "    <tr style=\"text-align: right;\">\n",
       "      <th></th>\n",
       "      <th>UMPD CASE NUMBER</th>\n",
       "      <th>OCCURRED DATE TIME</th>\n",
       "      <th>REPORT DATE TIME</th>\n",
       "      <th>TYPE</th>\n",
       "      <th>DISPOSITION</th>\n",
       "      <th>LOCATION</th>\n",
       "      <th>ARRESTED DATE TIME</th>\n",
       "      <th>RACE</th>\n",
       "      <th>SEX</th>\n",
       "      <th>ARREST REASON</th>\n",
       "      <th>DATE</th>\n",
       "      <th>TIME</th>\n",
       "      <th>RESPONCE</th>\n",
       "    </tr>\n",
       "  </thead>\n",
       "  <tbody>\n",
       "    <tr>\n",
       "      <th>11133</th>\n",
       "      <td>2018-00013734</td>\n",
       "      <td>2018-02-28 06:19:00</td>\n",
       "      <td>2018-02-28 06:19:00</td>\n",
       "      <td>Injured/Sick Person</td>\n",
       "      <td>CBE</td>\n",
       "      <td>Oakland Hall at 3912 Denton Service Ln</td>\n",
       "      <td>NaN</td>\n",
       "      <td>NaN</td>\n",
       "      <td>NaN</td>\n",
       "      <td>NaN</td>\n",
       "      <td>2018-02-28</td>\n",
       "      <td>6</td>\n",
       "      <td>0</td>\n",
       "    </tr>\n",
       "    <tr>\n",
       "      <th>11134</th>\n",
       "      <td>2018-00013823</td>\n",
       "      <td>2018-02-28 13:29:00</td>\n",
       "      <td>2018-02-28 13:29:00</td>\n",
       "      <td>Injured/Sick Person</td>\n",
       "      <td>CBE</td>\n",
       "      <td>Health Center at 3983 Campus Dr</td>\n",
       "      <td>NaN</td>\n",
       "      <td>NaN</td>\n",
       "      <td>NaN</td>\n",
       "      <td>NaN</td>\n",
       "      <td>2018-02-28</td>\n",
       "      <td>13</td>\n",
       "      <td>0</td>\n",
       "    </tr>\n",
       "    <tr>\n",
       "      <th>11135</th>\n",
       "      <td>2018-00013824</td>\n",
       "      <td>2018-02-23 16:00:00</td>\n",
       "      <td>2018-02-28 13:30:00</td>\n",
       "      <td>Vandalism</td>\n",
       "      <td>Active/Pending</td>\n",
       "      <td>Clarice Smith Performing Arts Center, CSPAC at...</td>\n",
       "      <td>NaN</td>\n",
       "      <td>NaN</td>\n",
       "      <td>NaN</td>\n",
       "      <td>NaN</td>\n",
       "      <td>2018-02-23</td>\n",
       "      <td>16</td>\n",
       "      <td>30</td>\n",
       "    </tr>\n",
       "    <tr>\n",
       "      <th>11136</th>\n",
       "      <td>2018-00013836</td>\n",
       "      <td>2018-02-28 14:14:00</td>\n",
       "      <td>2018-02-28 14:19:00</td>\n",
       "      <td>Injured/Sick Person</td>\n",
       "      <td>CBE</td>\n",
       "      <td>Lot 11b</td>\n",
       "      <td>NaN</td>\n",
       "      <td>NaN</td>\n",
       "      <td>NaN</td>\n",
       "      <td>NaN</td>\n",
       "      <td>2018-02-28</td>\n",
       "      <td>14</td>\n",
       "      <td>5</td>\n",
       "    </tr>\n",
       "    <tr>\n",
       "      <th>11137</th>\n",
       "      <td>2018-00013886</td>\n",
       "      <td>2018-01-26 17:00:00</td>\n",
       "      <td>2018-02-28 20:21:00</td>\n",
       "      <td>Fraud</td>\n",
       "      <td>Summons Issued</td>\n",
       "      <td>3900 block of Campus Dr</td>\n",
       "      <td>NaN</td>\n",
       "      <td>NaN</td>\n",
       "      <td>NaN</td>\n",
       "      <td>NaN</td>\n",
       "      <td>2018-01-26</td>\n",
       "      <td>17</td>\n",
       "      <td>21</td>\n",
       "    </tr>\n",
       "  </tbody>\n",
       "</table>\n",
       "</div>"
      ],
      "text/plain": [
       "      UMPD CASE NUMBER  OCCURRED DATE TIME    REPORT DATE TIME  \\\n",
       "11133    2018-00013734 2018-02-28 06:19:00 2018-02-28 06:19:00   \n",
       "11134    2018-00013823 2018-02-28 13:29:00 2018-02-28 13:29:00   \n",
       "11135    2018-00013824 2018-02-23 16:00:00 2018-02-28 13:30:00   \n",
       "11136    2018-00013836 2018-02-28 14:14:00 2018-02-28 14:19:00   \n",
       "11137    2018-00013886 2018-01-26 17:00:00 2018-02-28 20:21:00   \n",
       "\n",
       "                      TYPE     DISPOSITION  \\\n",
       "11133  Injured/Sick Person             CBE   \n",
       "11134  Injured/Sick Person             CBE   \n",
       "11135            Vandalism  Active/Pending   \n",
       "11136  Injured/Sick Person             CBE   \n",
       "11137                Fraud  Summons Issued   \n",
       "\n",
       "                                                LOCATION ARRESTED DATE TIME  \\\n",
       "11133             Oakland Hall at 3912 Denton Service Ln                NaN   \n",
       "11134                    Health Center at 3983 Campus Dr                NaN   \n",
       "11135  Clarice Smith Performing Arts Center, CSPAC at...                NaN   \n",
       "11136                                            Lot 11b                NaN   \n",
       "11137                            3900 block of Campus Dr                NaN   \n",
       "\n",
       "      RACE  SEX ARREST REASON        DATE  TIME  RESPONCE  \n",
       "11133  NaN  NaN           NaN  2018-02-28     6         0  \n",
       "11134  NaN  NaN           NaN  2018-02-28    13         0  \n",
       "11135  NaN  NaN           NaN  2018-02-23    16        30  \n",
       "11136  NaN  NaN           NaN  2018-02-28    14         5  \n",
       "11137  NaN  NaN           NaN  2018-01-26    17        21  "
      ]
     },
     "execution_count": 37,
     "metadata": {},
     "output_type": "execute_result"
    }
   ],
   "source": [
    "# Drop records with missing location information\n",
    "loc = df[df['LOCATION'].notnull()]\n",
    "loc.tail()"
   ]
  },
  {
   "cell_type": "code",
   "execution_count": 38,
   "metadata": {},
   "outputs": [
    {
     "data": {
      "text/plain": [
       "LOCATION\n",
       "013 at 13 Greenhouse Dr           2\n",
       "1 Fraternity Row                  2\n",
       "10 Fraternity Row                 3\n",
       "1000 block of Kennebec St         1\n",
       "1000 block of Rhode Island Ave    1\n",
       "Name: UMPD CASE NUMBER, dtype: int64"
      ]
     },
     "execution_count": 38,
     "metadata": {},
     "output_type": "execute_result"
    }
   ],
   "source": [
    "crime_loc = df.groupby('LOCATION')['UMPD CASE NUMBER'].count()\n",
    "crime_loc[:5]"
   ]
  },
  {
   "cell_type": "markdown",
   "metadata": {},
   "source": [
    "We converted street address to latitude and longitude to facilitate our analysis with the help of Google Map API (https://maps.googleapis.com/maps/api/geocode). However, because of the connection block after too many requests from it at one time, it failed to return coordinates of some location. We had to request repeatedly for rejected requests and refill them to the original coordinates list. We kept requesting for location in the \"wrong_loc\". a list of rejected requests, from the previous iteration until all locations were returned."
   ]
  },
  {
   "cell_type": "code",
   "execution_count": 39,
   "metadata": {},
   "outputs": [
    {
     "data": {
      "text/plain": [
       "Index(['013+at+13+Greenhouse+Dr,+College+Park,+MD',\n",
       "       '1+Fraternity+Row,+College+Park,+MD',\n",
       "       '10+Fraternity+Row,+College+Park,+MD',\n",
       "       '1000+block+of+Kennebec+St,+College+Park,+MD',\n",
       "       '1000+block+of+Rhode+Island+Ave,+College+Park,+MD'],\n",
       "      dtype='object', name='LOCATION')"
      ]
     },
     "execution_count": 39,
     "metadata": {},
     "output_type": "execute_result"
    }
   ],
   "source": [
    "# Convert location to correct format to feed to Google Map API and get longitude and latitude\n",
    "ser = crime_loc.index\n",
    "ser = ser.str.split()\n",
    "ser = ser.map(lambda loc: '+'.join(loc)+',+College+Park,+MD')\n",
    "ser[:5]"
   ]
  },
  {
   "cell_type": "code",
   "execution_count": 41,
   "metadata": {},
   "outputs": [
    {
     "name": "stdout",
     "output_type": "stream",
     "text": [
      "Wall time: 10min 24s\n"
     ]
    }
   ],
   "source": [
    "%%time\n",
    "#First iteration, stored results in lat1 and long1\n",
    "latitude = []\n",
    "longitude = []\n",
    "wrong_loc = []\n",
    "for loc in ser:    \n",
    "    response = requests.get('https://maps.googleapis.com/maps/api/geocode/json?address='+loc)\n",
    "    resp_json = response.json()\n",
    "    try:\n",
    "        lat = resp_json['results'][0]['geometry']['location']['lat']\n",
    "        lng = resp_json['results'][0]['geometry']['location']['lng']\n",
    "    except:\n",
    "        lat = 0\n",
    "        lng = 0\n",
    "        wrong_loc.append(loc)\n",
    "    latitude.append(lat)\n",
    "    longitude.append(lng)"
   ]
  },
  {
   "cell_type": "code",
   "execution_count": 42,
   "metadata": {
    "collapsed": true
   },
   "outputs": [],
   "source": [
    "lat1 = latitude\n",
    "long1 = longitude\n",
    "wrong1 = wrong_loc"
   ]
  },
  {
   "cell_type": "code",
   "execution_count": 43,
   "metadata": {},
   "outputs": [
    {
     "data": {
      "text/plain": [
       "313"
      ]
     },
     "execution_count": 43,
     "metadata": {},
     "output_type": "execute_result"
    }
   ],
   "source": [
    "len(wrong1)"
   ]
  },
  {
   "cell_type": "code",
   "execution_count": 44,
   "metadata": {},
   "outputs": [
    {
     "name": "stdout",
     "output_type": "stream",
     "text": [
      "Wall time: 16min 3s\n"
     ]
    }
   ],
   "source": [
    "%%time\n",
    "# Second iteration\n",
    "latitude = []\n",
    "longitude = []\n",
    "wrong_loc = []\n",
    "for loc in wrong1:    \n",
    "    response = requests.get('https://maps.googleapis.com/maps/api/geocode/json?address='+loc)\n",
    "    resp_json = response.json()\n",
    "    try:\n",
    "        lat = resp_json['results'][0]['geometry']['location']['lat']\n",
    "        lng = resp_json['results'][0]['geometry']['location']['lng']\n",
    "    except:\n",
    "        lat = 0\n",
    "        lng = 0\n",
    "        wrong_loc.append(loc)\n",
    "    latitude.append(lat)\n",
    "    longitude.append(lng)\n",
    "    sleep(randint(2,3))"
   ]
  },
  {
   "cell_type": "code",
   "execution_count": 45,
   "metadata": {
    "collapsed": true
   },
   "outputs": [],
   "source": [
    "lat2 = latitude\n",
    "long2 = longitude\n",
    "wrong2 = wrong_loc"
   ]
  },
  {
   "cell_type": "code",
   "execution_count": 46,
   "metadata": {},
   "outputs": [
    {
     "data": {
      "text/plain": [
       "96"
      ]
     },
     "execution_count": 46,
     "metadata": {},
     "output_type": "execute_result"
    }
   ],
   "source": [
    "len(wrong2)"
   ]
  },
  {
   "cell_type": "code",
   "execution_count": 47,
   "metadata": {},
   "outputs": [
    {
     "name": "stdout",
     "output_type": "stream",
     "text": [
      "Wall time: 5min 3s\n"
     ]
    }
   ],
   "source": [
    "%%time\n",
    "# Third iteration\n",
    "latitude = []\n",
    "longitude = []\n",
    "wrong_loc = []\n",
    "for loc in wrong2:    \n",
    "    response = requests.get('https://maps.googleapis.com/maps/api/geocode/json?address='+loc)\n",
    "    resp_json = response.json()\n",
    "    try:\n",
    "        lat = resp_json['results'][0]['geometry']['location']['lat']\n",
    "        lng = resp_json['results'][0]['geometry']['location']['lng']\n",
    "    except:\n",
    "        lat = 0\n",
    "        lng = 0\n",
    "        wrong_loc.append(loc)\n",
    "    latitude.append(lat)\n",
    "    longitude.append(lng)\n",
    "    sleep(randint(2,3))"
   ]
  },
  {
   "cell_type": "code",
   "execution_count": 48,
   "metadata": {
    "collapsed": true
   },
   "outputs": [],
   "source": [
    "lat3 = latitude\n",
    "long3 = longitude\n",
    "wrong3 = wrong_loc"
   ]
  },
  {
   "cell_type": "code",
   "execution_count": 49,
   "metadata": {},
   "outputs": [
    {
     "data": {
      "text/plain": [
       "21"
      ]
     },
     "execution_count": 49,
     "metadata": {},
     "output_type": "execute_result"
    }
   ],
   "source": [
    "len(wrong3)"
   ]
  },
  {
   "cell_type": "code",
   "execution_count": 50,
   "metadata": {},
   "outputs": [
    {
     "name": "stdout",
     "output_type": "stream",
     "text": [
      "Wall time: 1min 1s\n"
     ]
    }
   ],
   "source": [
    "%%time\n",
    "# Forth iteration\n",
    "latitude = []\n",
    "longitude = []\n",
    "wrong_loc = []\n",
    "for loc in wrong3:    \n",
    "    response = requests.get('https://maps.googleapis.com/maps/api/geocode/json?address='+loc)\n",
    "    resp_json = response.json()\n",
    "    try:\n",
    "        lat = resp_json['results'][0]['geometry']['location']['lat']\n",
    "        lng = resp_json['results'][0]['geometry']['location']['lng']\n",
    "    except:\n",
    "        lat = 0\n",
    "        lng = 0\n",
    "        wrong_loc.append(loc)\n",
    "    latitude.append(lat)\n",
    "    longitude.append(lng)\n",
    "    sleep(randint(2,3))"
   ]
  },
  {
   "cell_type": "code",
   "execution_count": 51,
   "metadata": {
    "collapsed": true
   },
   "outputs": [],
   "source": [
    "lat4 = latitude\n",
    "long4 = longitude\n",
    "wrong4 = wrong_loc"
   ]
  },
  {
   "cell_type": "code",
   "execution_count": 52,
   "metadata": {},
   "outputs": [
    {
     "data": {
      "text/plain": [
       "7"
      ]
     },
     "execution_count": 52,
     "metadata": {},
     "output_type": "execute_result"
    }
   ],
   "source": [
    "len(wrong4)"
   ]
  },
  {
   "cell_type": "code",
   "execution_count": 54,
   "metadata": {},
   "outputs": [
    {
     "name": "stdout",
     "output_type": "stream",
     "text": [
      "Wall time: 18.6 s\n"
     ]
    }
   ],
   "source": [
    "%%time\n",
    "# Fifth iteration\n",
    "latitude = []\n",
    "longitude = []\n",
    "wrong_loc = []\n",
    "for loc in wrong4:    \n",
    "    response = requests.get('https://maps.googleapis.com/maps/api/geocode/json?address='+loc)\n",
    "    resp_json = response.json()\n",
    "    try:\n",
    "        lat = resp_json['results'][0]['geometry']['location']['lat']\n",
    "        lng = resp_json['results'][0]['geometry']['location']['lng']\n",
    "    except:\n",
    "        lat = 0\n",
    "        lng = 0\n",
    "        wrong_loc.append(loc)\n",
    "    latitude.append(lat)\n",
    "    longitude.append(lng)\n",
    "    sleep(randint(2,3))"
   ]
  },
  {
   "cell_type": "code",
   "execution_count": 55,
   "metadata": {
    "collapsed": true
   },
   "outputs": [],
   "source": [
    "lat5 = latitude\n",
    "long5 = longitude\n",
    "wrong5 = wrong_loc"
   ]
  },
  {
   "cell_type": "code",
   "execution_count": 56,
   "metadata": {},
   "outputs": [
    {
     "data": {
      "text/plain": [
       "3"
      ]
     },
     "execution_count": 56,
     "metadata": {},
     "output_type": "execute_result"
    }
   ],
   "source": [
    "len(wrong5)"
   ]
  },
  {
   "cell_type": "code",
   "execution_count": 57,
   "metadata": {
    "collapsed": true
   },
   "outputs": [],
   "source": [
    "response = requests.get('https://maps.googleapis.com/maps/api/geocode/json?address='+wrong_loc[0])\n",
    "resp_json = response.json()\n",
    "lati_wrong0 = resp_json['results'][0]['geometry']['location']['lat']\n",
    "lngi_wrong0 = resp_json['results'][0]['geometry']['location']['lng']"
   ]
  },
  {
   "cell_type": "code",
   "execution_count": 58,
   "metadata": {
    "collapsed": true
   },
   "outputs": [],
   "source": [
    "response = requests.get('https://maps.googleapis.com/maps/api/geocode/json?address='+wrong_loc[1])\n",
    "resp_json = response.json()\n",
    "lati_wrong1 = resp_json['results'][0]['geometry']['location']['lat']\n",
    "lngi_wrong1 = resp_json['results'][0]['geometry']['location']['lng']"
   ]
  },
  {
   "cell_type": "code",
   "execution_count": 59,
   "metadata": {
    "collapsed": true
   },
   "outputs": [],
   "source": [
    "response = requests.get('https://maps.googleapis.com/maps/api/geocode/json?address='+wrong_loc[2])\n",
    "resp_json = response.json()\n",
    "lati_wrong2 = resp_json['results'][0]['geometry']['location']['lat']\n",
    "lngi_wrong2 = resp_json['results'][0]['geometry']['location']['lng']"
   ]
  },
  {
   "cell_type": "code",
   "execution_count": 60,
   "metadata": {},
   "outputs": [
    {
     "name": "stdout",
     "output_type": "stream",
     "text": [
      "[39.0131885, 0, 38.9819843, 38.9951583, 38.99033319999999, 0, 0]\n",
      "[-76.928619, 0, -76.93143599999999, -76.93244, -76.9473792, 0, 0]\n"
     ]
    }
   ],
   "source": [
    "print(lat5)\n",
    "print(long5)"
   ]
  },
  {
   "cell_type": "code",
   "execution_count": 61,
   "metadata": {
    "collapsed": true
   },
   "outputs": [],
   "source": [
    "# Refill the coordinate list in order\n",
    "lat5[1] = lati_wrong0\n",
    "lat5[5] = lati_wrong1\n",
    "lat5[6] = lati_wrong2\n",
    "long5[1] = lngi_wrong0\n",
    "long5[5] = lngi_wrong1\n",
    "long5[6] = lngi_wrong2"
   ]
  },
  {
   "cell_type": "code",
   "execution_count": 62,
   "metadata": {},
   "outputs": [
    {
     "data": {
      "text/plain": [
       "[39.0131885,\n",
       " 38.9790826,\n",
       " 38.9819843,\n",
       " 38.9951583,\n",
       " 38.99033319999999,\n",
       " 38.9795705,\n",
       " 38.9869183]"
      ]
     },
     "execution_count": 62,
     "metadata": {},
     "output_type": "execute_result"
    }
   ],
   "source": [
    "lat5"
   ]
  },
  {
   "cell_type": "code",
   "execution_count": 64,
   "metadata": {
    "collapsed": true
   },
   "outputs": [],
   "source": [
    "def refill(lat, long, new_lat, new_long):\n",
    "    arr_lat = np.array(lat)\n",
    "    arr_long = np.array(long)\n",
    "    arr_lat[np.where(arr_lat == 0)] = new_lat\n",
    "    arr_long[np.where(arr_long == 0)] = new_long\n",
    "    return arr_lat,arr_long"
   ]
  },
  {
   "cell_type": "code",
   "execution_count": 65,
   "metadata": {
    "collapsed": true
   },
   "outputs": [],
   "source": [
    "new_lat4 = refill(lat4, long4, np.array(lat5), np.array(long5))[0]\n",
    "new_long4 = refill(lat4, long4, np.array(lat5), np.array(long5))[1]"
   ]
  },
  {
   "cell_type": "code",
   "execution_count": 66,
   "metadata": {
    "collapsed": true
   },
   "outputs": [],
   "source": [
    "new_lat3 = refill(lat3, long3, new_lat4, new_long4)[0]\n",
    "new_long3 = refill(lat3, long3, new_lat4, new_long4)[1]"
   ]
  },
  {
   "cell_type": "code",
   "execution_count": 67,
   "metadata": {
    "collapsed": true
   },
   "outputs": [],
   "source": [
    "new_lat2 = refill(lat2, long2, new_lat3, new_long3)[0]\n",
    "new_long2 = refill(lat2, long2, new_lat3, new_long3)[1]"
   ]
  },
  {
   "cell_type": "code",
   "execution_count": 68,
   "metadata": {
    "collapsed": true
   },
   "outputs": [],
   "source": [
    "new_lat1 = refill(lat1, long1, new_lat2, new_long2)[0]\n",
    "new_long1 = refill(lat1, long1, new_lat2, new_long2)[1]"
   ]
  },
  {
   "cell_type": "code",
   "execution_count": 69,
   "metadata": {},
   "outputs": [
    {
     "data": {
      "text/plain": [
       "0.0"
      ]
     },
     "execution_count": 69,
     "metadata": {},
     "output_type": "execute_result"
    }
   ],
   "source": [
    "# See if there is 0 (rejection) in the full list of coordinates\n",
    "sum(new_lat1[np.where(new_lat1 == 0)])"
   ]
  },
  {
   "cell_type": "code",
   "execution_count": 70,
   "metadata": {},
   "outputs": [
    {
     "data": {
      "text/html": [
       "<div>\n",
       "<style>\n",
       "    .dataframe thead tr:only-child th {\n",
       "        text-align: right;\n",
       "    }\n",
       "\n",
       "    .dataframe thead th {\n",
       "        text-align: left;\n",
       "    }\n",
       "\n",
       "    .dataframe tbody tr th {\n",
       "        vertical-align: top;\n",
       "    }\n",
       "</style>\n",
       "<table border=\"1\" class=\"dataframe\">\n",
       "  <thead>\n",
       "    <tr style=\"text-align: right;\">\n",
       "      <th></th>\n",
       "      <th>UMPD CASE NUMBER</th>\n",
       "      <th>Latitude</th>\n",
       "      <th>Longitude</th>\n",
       "    </tr>\n",
       "    <tr>\n",
       "      <th>LOCATION</th>\n",
       "      <th></th>\n",
       "      <th></th>\n",
       "      <th></th>\n",
       "    </tr>\n",
       "  </thead>\n",
       "  <tbody>\n",
       "    <tr>\n",
       "      <th>013 at 13 Greenhouse Dr</th>\n",
       "      <td>2</td>\n",
       "      <td>38.997326</td>\n",
       "      <td>-76.942962</td>\n",
       "    </tr>\n",
       "    <tr>\n",
       "      <th>1 Fraternity Row</th>\n",
       "      <td>2</td>\n",
       "      <td>38.984430</td>\n",
       "      <td>-76.936859</td>\n",
       "    </tr>\n",
       "    <tr>\n",
       "      <th>10 Fraternity Row</th>\n",
       "      <td>3</td>\n",
       "      <td>38.983339</td>\n",
       "      <td>-76.935168</td>\n",
       "    </tr>\n",
       "    <tr>\n",
       "      <th>1000 block of Kennebec St</th>\n",
       "      <td>1</td>\n",
       "      <td>38.990398</td>\n",
       "      <td>-76.999093</td>\n",
       "    </tr>\n",
       "    <tr>\n",
       "      <th>1000 block of Rhode Island Ave</th>\n",
       "      <td>1</td>\n",
       "      <td>39.005088</td>\n",
       "      <td>-76.923950</td>\n",
       "    </tr>\n",
       "  </tbody>\n",
       "</table>\n",
       "</div>"
      ],
      "text/plain": [
       "                                UMPD CASE NUMBER   Latitude  Longitude\n",
       "LOCATION                                                              \n",
       "013 at 13 Greenhouse Dr                        2  38.997326 -76.942962\n",
       "1 Fraternity Row                               2  38.984430 -76.936859\n",
       "10 Fraternity Row                              3  38.983339 -76.935168\n",
       "1000 block of Kennebec St                      1  38.990398 -76.999093\n",
       "1000 block of Rhode Island Ave                 1  39.005088 -76.923950"
      ]
     },
     "execution_count": 70,
     "metadata": {},
     "output_type": "execute_result"
    }
   ],
   "source": [
    "group_crime = pd.DataFrame(crime_loc)\n",
    "group_crime['Latitude'] = pd.Series(new_lat1).values\n",
    "group_crime['Longitude'] = pd.Series(new_long1).values\n",
    "group_crime.head()"
   ]
  },
  {
   "cell_type": "markdown",
   "metadata": {},
   "source": [
    "- To center our map, we also searched for the coordinates of \"University of Maryland, College Park, MD\".\n",
    "- To get a cleaner map, we grouped longitude and latitude so that different address with same coordinates (e.g. University Courtyard /#7 at 8700 Boteler Ln and University Courtyard /#5 at 8500 Boteler Ln)\n",
    "- We tried to represent number of crimes by the circle size, but it would be very messy because there are many places close to each other and overlapped. Finally, we turned to heatmap with color changing from blue to red representing low to high frequency"
   ]
  },
  {
   "cell_type": "code",
   "execution_count": 71,
   "metadata": {
    "collapsed": true
   },
   "outputs": [],
   "source": [
    "# Request for the center coordinates for our map\n",
    "response = requests.get('https://maps.googleapis.com/maps/api/geocode/json?address=university+of+maryland,+College+Park,+MD')\n",
    "resp_json = response.json()\n",
    "center_lat = resp_json['results'][0]['geometry']['location']['lat']\n",
    "center_lng = resp_json['results'][0]['geometry']['location']['lng']"
   ]
  },
  {
   "cell_type": "code",
   "execution_count": 72,
   "metadata": {},
   "outputs": [
    {
     "data": {
      "text/plain": [
       "(38.9869183, -76.9425543)"
      ]
     },
     "execution_count": 72,
     "metadata": {},
     "output_type": "execute_result"
    }
   ],
   "source": [
    "(center_lat,center_lng)"
   ]
  },
  {
   "cell_type": "code",
   "execution_count": 73,
   "metadata": {
    "collapsed": true
   },
   "outputs": [],
   "source": [
    "# Create an interactive map plot with number of crimes\n",
    "import folium"
   ]
  },
  {
   "cell_type": "code",
   "execution_count": 74,
   "metadata": {},
   "outputs": [
    {
     "data": {
      "text/plain": [
       "<folium.features.CircleMarker at 0x1689a136588>"
      ]
     },
     "execution_count": 74,
     "metadata": {},
     "output_type": "execute_result"
    }
   ],
   "source": [
    "folium_map = folium.Map(location=[center_lat, center_lng],\n",
    "                        zoom_start=13)"
   ]
  },
  {
   "cell_type": "code",
   "execution_count": 75,
   "metadata": {},
   "outputs": [
    {
     "data": {
      "text/html": [
       "<div>\n",
       "<style>\n",
       "    .dataframe thead tr:only-child th {\n",
       "        text-align: right;\n",
       "    }\n",
       "\n",
       "    .dataframe thead th {\n",
       "        text-align: left;\n",
       "    }\n",
       "\n",
       "    .dataframe tbody tr th {\n",
       "        vertical-align: top;\n",
       "    }\n",
       "</style>\n",
       "<table border=\"1\" class=\"dataframe\">\n",
       "  <thead>\n",
       "    <tr style=\"text-align: right;\">\n",
       "      <th></th>\n",
       "      <th>Latitude</th>\n",
       "      <th>Longitude</th>\n",
       "      <th>UMPD CASE NUMBER</th>\n",
       "    </tr>\n",
       "  </thead>\n",
       "  <tbody>\n",
       "    <tr>\n",
       "      <th>0</th>\n",
       "      <td>22.282066</td>\n",
       "      <td>113.939335</td>\n",
       "      <td>1</td>\n",
       "    </tr>\n",
       "    <tr>\n",
       "      <th>1</th>\n",
       "      <td>30.559151</td>\n",
       "      <td>-96.362307</td>\n",
       "      <td>1</td>\n",
       "    </tr>\n",
       "    <tr>\n",
       "      <th>2</th>\n",
       "      <td>30.613891</td>\n",
       "      <td>-96.302700</td>\n",
       "      <td>4</td>\n",
       "    </tr>\n",
       "    <tr>\n",
       "      <th>3</th>\n",
       "      <td>34.002272</td>\n",
       "      <td>-118.386199</td>\n",
       "      <td>7</td>\n",
       "    </tr>\n",
       "    <tr>\n",
       "      <th>4</th>\n",
       "      <td>34.639658</td>\n",
       "      <td>-79.018174</td>\n",
       "      <td>1</td>\n",
       "    </tr>\n",
       "  </tbody>\n",
       "</table>\n",
       "</div>"
      ],
      "text/plain": [
       "    Latitude   Longitude  UMPD CASE NUMBER\n",
       "0  22.282066  113.939335                 1\n",
       "1  30.559151  -96.362307                 1\n",
       "2  30.613891  -96.302700                 4\n",
       "3  34.002272 -118.386199                 7\n",
       "4  34.639658  -79.018174                 1"
      ]
     },
     "execution_count": 75,
     "metadata": {},
     "output_type": "execute_result"
    }
   ],
   "source": [
    "# Group the same coordinate with different street address to get a clearer plot\n",
    "grouped = group_crime.groupby(by = ['Latitude', 'Longitude']).sum()\n",
    "grouped.reset_index(inplace = True)\n",
    "grouped.head()"
   ]
  },
  {
   "cell_type": "code",
   "execution_count": 76,
   "metadata": {
    "collapsed": true
   },
   "outputs": [],
   "source": [
    "data = list(zip(grouped[\"Latitude\"],grouped[\"Longitude\"]))"
   ]
  },
  {
   "cell_type": "code",
   "execution_count": 77,
   "metadata": {},
   "outputs": [
    {
     "data": {
      "text/html": [
       "<div style=\"width:100%;\"><div style=\"position:relative;width:100%;height:0;padding-bottom:60%;\"><iframe src=\"data:text/html;charset=utf-8;base64,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\" style=\"position:absolute;width:100%;height:100%;left:0;top:0;border:none !important;\" allowfullscreen webkitallowfullscreen mozallowfullscreen></iframe></div></div>"
      ],
      "text/plain": [
       "<folium.folium.Map at 0x2460cbe25f8>"
      ]
     },
     "execution_count": 77,
     "metadata": {},
     "output_type": "execute_result"
    }
   ],
   "source": [
    "# Please zoom in and drag the cursor to see details\n",
    "from folium.plugins import HeatMap\n",
    "HeatMap(data, radius = 13).add_to(folium_map)\n",
    "folium_map"
   ]
  },
  {
   "cell_type": "markdown",
   "metadata": {},
   "source": [
    "### Conclusion: \n",
    "- By zooming out to get an overall view, the southwest of the campus is more orange than other parts. It shows that more crime incidents occurred in this part in the last 5 years.  \n",
    "- After zooming in for more details, we can see that there are some places more dangerous than other areas such as College Park Shopping Center, M circle and the area between Valley Drive and Farm Drive. Red appears in the above areas, which indicates that crimes happen more often there. "
   ]
  },
  {
   "cell_type": "markdown",
   "metadata": {},
   "source": [
    "## 4. Recommendations\n",
    "Based on our analysis, we can conclude that there is some pattern of crime occurrence along the date, time, location. Besides, different crime types have different properties such as response time and gender of criminals who committed them, as mentioned in last section. It provides important information about how to reduce the crimes around campus and live a better life. Here are some suggestions derived from conclusions above."
   ]
  },
  {
   "cell_type": "markdown",
   "metadata": {},
   "source": [
    "For students:\n",
    "- Avoid being alone on the street after 10 PM and be careful at the dangerous areas. \n",
    "- Be alert even though it's daytime, especially the lunch time when the campus is busy.\n",
    "- Always keep an eye on your belongings and be vigilant to frauds\n",
    "- Do not have a try of addictive drugs and keep away from drug abusers.\n",
    "\n",
    "For campus administration:\n",
    "- Provide more escort to students who have to go back home late.\n",
    "- Increase officers patrolling on busy places at busy times.\n",
    "- Help students raise awareness of harm of drugs and alcohol."
   ]
  },
  {
   "cell_type": "markdown",
   "metadata": {
    "collapsed": true
   },
   "source": [
    "## 5. Reference\n",
    "Data Source: \n",
    "- Daily Crime and Incident Logs: http://www.umpd.umd.edu/stats/incident_logs.cfm\n",
    "- Arrest Report Ledgers: http://www.umpd.umd.edu/stats/arrest_report.cfm "
   ]
  },
  {
   "cell_type": "markdown",
   "metadata": {
    "collapsed": true
   },
   "source": [
    "Google Map API:\n",
    "https://maps.googleapis.com/maps/api/geocode"
   ]
  },
  {
   "cell_type": "code",
   "execution_count": null,
   "metadata": {
    "collapsed": true
   },
   "outputs": [],
   "source": []
  }
 ],
 "metadata": {
  "kernelspec": {
   "display_name": "Python 3",
   "language": "python",
   "name": "python3"
  },
  "language_info": {
   "codemirror_mode": {
    "name": "ipython",
    "version": 3
   },
   "file_extension": ".py",
   "mimetype": "text/x-python",
   "name": "python",
   "nbconvert_exporter": "python",
   "pygments_lexer": "ipython3",
   "version": "3.6.3"
  }
 },
 "nbformat": 4,
 "nbformat_minor": 2
}
